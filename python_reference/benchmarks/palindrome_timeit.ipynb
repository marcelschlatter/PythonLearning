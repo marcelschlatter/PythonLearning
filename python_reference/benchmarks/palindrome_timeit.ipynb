{
 "metadata": {
  "name": "",
  "signature": "sha256:ab859015961b19530bb3c16fe1edf4e7f9baca715bdf8187c724e8c0c4cfc8ad"
 },
 "nbformat": 3,
 "nbformat_minor": 0,
 "worksheets": [
  {
   "cells": [
    {
     "cell_type": "markdown",
     "metadata": {},
     "source": [
      "[Sebastian Raschka](http://sebastianraschka.com)  \n",
      "last updated: 05/06/2014\n",
      "\n",
      "- [Link to this IPython Notebook on GitHub](https://github.com/rasbt/python_reference/blob/master/benchmarks/palindrome_timeit.ipynb)  \n",
      "- [Link to the GitHub repository](https://github.com/rasbt/python_reference)  \n",
      "\n",
      "<br>\n",
      "<br>"
     ]
    },
    {
     "cell_type": "markdown",
     "metadata": {},
     "source": [
      "#Timing different Implementations of palindrome functions"
     ]
    },
    {
     "cell_type": "code",
     "collapsed": false,
     "input": [
      "import re\n",
      "import timeit\n",
      "import string\n",
      "\n",
      "# All functions return True if an input string is a palindrome. Else returns False.\n",
      "\n",
      "#############################################################\n",
      "#### case-insensitive ignoring punctuation characters\n",
      "############################################################\n",
      "\n",
      "def palindrome_short(my_str):\n",
      "    stripped_str = \"\".join(l.lower() for l in my_str if l.isalpha())\n",
      "    return stripped_str == stripped_str[::-1]\n",
      "\n",
      "def palindrome_regex(my_str):\n",
      "    return re.sub('\\W', '', my_str.lower()) == re.sub('\\W', '', my_str[::-1].lower())\n",
      "\n",
      "def palindrome_stringlib(my_str):\n",
      "    LOWERS = set(string.ascii_lowercase)\n",
      "    letters = [c for c in my_str.lower() if c in LOWERS]\n",
      "    return letters == letters[::-1]\n",
      "\n",
      "LOWERS = set(string.ascii_lowercase)\n",
      "def palindrome_stringlib2(my_str):\n",
      "    letters = [c for c in my_str.lower() if c in LOWERS]\n",
      "    return letters == letters[::-1]\n",
      "\n",
      "def palindrome_isalpha(my_str):\n",
      "    stripped_str = [l for l in my_str.lower() if l.isalpha()]\n",
      "    return stripped_str == stripped_str[::-1]\n",
      "\n",
      "\n",
      "\n",
      "############################################################\n",
      "#### functions considering all characters (case-sensitive)\n",
      "############################################################\n",
      "\n",
      "def palindrome_reverse1(my_str):\n",
      "    return my_str == my_str[::-1]\n",
      "\n",
      "def palindrome_reverse2(my_str):\n",
      "    return my_str == ''.join(reversed(my_str))\n",
      "\n",
      "def palindrome_recurs(my_str):\n",
      "    if len(my_str) < 2:\n",
      "        return True\n",
      "    if my_str[0] != my_str[-1]:\n",
      "        return False\n",
      "    return palindrome(my_str[1:-1])"
     ],
     "language": "python",
     "metadata": {},
     "outputs": [],
     "prompt_number": 1
    },
    {
     "cell_type": "code",
     "collapsed": false,
     "input": [
      "test_str = \"Go hang a salami. I'm a lasagna hog.\"\n",
      "\n",
      "print('case-insensitive functions ignoring punctuation characters')\n",
      "%timeit palindrome_short(test_str)\n",
      "%timeit palindrome_regex(test_str)\n",
      "%timeit palindrome_stringlib(test_str)\n",
      "%timeit palindrome_stringlib2(test_str)\n",
      "%timeit palindrome_isalpha(test_str)\n",
      "\n",
      "print('\\n\\nfunctions considering all characters (case-sensitive)')\n",
      "%timeit palindrome_reverse1(test_str)\n",
      "%timeit palindrome_reverse2(test_str)\n",
      "%timeit palindrome_recurs(test_str)\n"
     ],
     "language": "python",
     "metadata": {},
     "outputs": [
      {
       "output_type": "stream",
       "stream": "stdout",
       "text": [
        "case-insensitive functions ignoring punctuation characters\n",
        "10000 loops, best of 3: 15.5 \u00b5s per loop"
       ]
      },
      {
       "output_type": "stream",
       "stream": "stdout",
       "text": [
        "\n",
        "10000 loops, best of 3: 19.5 \u00b5s per loop"
       ]
      },
      {
       "output_type": "stream",
       "stream": "stdout",
       "text": [
        "\n",
        "100000 loops, best of 3: 11.7 \u00b5s per loop"
       ]
      },
      {
       "output_type": "stream",
       "stream": "stdout",
       "text": [
        "\n",
        "100000 loops, best of 3: 8.24 \u00b5s per loop"
       ]
      },
      {
       "output_type": "stream",
       "stream": "stdout",
       "text": [
        "\n",
        "100000 loops, best of 3: 9.38 \u00b5s per loop"
       ]
      },
      {
       "output_type": "stream",
       "stream": "stdout",
       "text": [
        "\n",
        "\n",
        "\n",
        "functions considering all characters (case-sensitive)\n",
        "1000000 loops, best of 3: 507 ns per loop"
       ]
      },
      {
       "output_type": "stream",
       "stream": "stdout",
       "text": [
        "\n",
        "100000 loops, best of 3: 3.08 \u00b5s per loop"
       ]
      },
      {
       "output_type": "stream",
       "stream": "stdout",
       "text": [
        "\n",
        "1000000 loops, best of 3: 581 ns per loop"
       ]
      },
      {
       "output_type": "stream",
       "stream": "stdout",
       "text": [
        "\n"
       ]
      }
     ],
     "prompt_number": 2
    },
    {
     "cell_type": "code",
     "collapsed": false,
     "input": [
      "import timeit\n",
      "\n",
      "funcs_s = ['palindrome_short', 'palindrome_regex', 'palindrome_stringlib', \n",
      "         'palindrome_stringlib2', 'palindrome_isalpha'] \n",
      "\n",
      "funcs_ins = ['palindrome_reverse1', 'palindrome_reverse2', 'palindrome_recurs']\n",
      "\n",
      "times_s, times_ins = [], []\n",
      "\n",
      "for f in funcs_s:\n",
      "    times_s.append(min(timeit.Timer('%s(test_str)' %f, \n",
      "                      'from __main__ import %s, test_str' %f)\n",
      "                              .repeat(repeat=3, number=1000)))\n",
      "    \n",
      "for f in funcs_ins:\n",
      "    times_ins.append(min(timeit.Timer('%s(test_str)' %f, \n",
      "                      'from __main__ import %s, test_str' %f)\n",
      "                              .repeat(repeat=3, number=1000)))"
     ],
     "language": "python",
     "metadata": {},
     "outputs": [],
     "prompt_number": 13
    },
    {
     "cell_type": "code",
     "collapsed": false,
     "input": [
      "%pylab inline"
     ],
     "language": "python",
     "metadata": {},
     "outputs": [],
     "prompt_number": 8
    },
    {
     "cell_type": "code",
     "collapsed": false,
     "input": [
      "import matplotlib.pyplot as plt\n",
      "\n",
      "labels = [('cy_lstsqr', 'Cython implementation'), \n",
      "          ('lin_lstsqr_mat', 'numpy matrix equation'),\n",
      "          ('numpy_lstsqr', 'numpy.linalg.lstsq()'), \n",
      "          ('scipy_lstsqr', 'scipy.stats.linregress()')] \n",
      "\n",
      "matplotlib.rcParams.update({'font.size': 12})\n",
      "\n",
      "fig = plt.figure(figsize=(10,8))\n",
      "for f in funcs_s:\n",
      "    plt.plot(orders_n, times_n[lb[0]], alpha=0.5, label=lb[1], marker='o', lw=3)\n",
      "plt.xlabel('sample size n')\n",
      "plt.ylabel('time per computation in milliseconds [ms]')\n",
      "plt.xlim([1,max(orders_n) + max(orders_n) * 10])\n",
      "plt.legend(loc=2)\n",
      "plt.grid()\n",
      "plt.xscale('log')\n",
      "plt.yscale('log')\n",
      "plt.title('Performance of least square fit implementations for different sample sizes')\n",
      "plt.show()"
     ],
     "language": "python",
     "metadata": {},
     "outputs": []
    },
    {
     "cell_type": "code",
     "collapsed": false,
     "input": [
      "import matplotlib.pyplot as plt\n",
      "\n",
      "x_pos = np.arange(len(times_s))\n",
      "plt.bar(x_pos, times_s, align='center', alpha=0.5, color=\"green\")\n",
      "plt.xticks(x_pos, funcs_s, rotation=90)\n",
      "plt.ylabel('time per computation in ms')\n",
      "plt.title('Performance of different case-sensitive palindrome functions')\n",
      "plt.grid()\n",
      "plt.show()\n",
      "\n",
      "x_pos = np.arange(len(times_ins))\n",
      "plt.bar(x_pos, times_ins, align='center', alpha=0.5, color=\"blue\")\n",
      "plt.xticks(x_pos, funcs_ins, rotation=90)\n",
      "plt.ylabel('time per computation in ms')\n",
      "plt.title('Performance of different case-insensitive palindrome functions')\n",
      "plt.grid()\n",
      "plt.show()"
     ],
     "language": "python",
     "metadata": {},
     "outputs": [
      {
       "metadata": {},
       "output_type": "display_data",
       "png": "[encoded data removed]",
       "text": [
        "<matplotlib.figure.Figure at 0x105618160>"
       ]
      },
      {
       "metadata": {},
       "output_type": "display_data",
       "png": "[encoded data removed]",
       "text": [
        "<matplotlib.figure.Figure at 0x1056baba8>"
       ]
      }
     ],
     "prompt_number": 29
    }
   ],
   "metadata": {}
  }
 ]
}